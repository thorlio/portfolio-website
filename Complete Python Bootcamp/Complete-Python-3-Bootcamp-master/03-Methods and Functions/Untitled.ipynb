{
 "cells": [
  {
   "cell_type": "code",
   "execution_count": 1,
   "id": "98031009",
   "metadata": {},
   "outputs": [],
   "source": [
    "def makes_twenty(num1,num2):\n",
    "    return (num1+num2) == 20 or (num1) == 20 or (num2) == 20"
   ]
  },
  {
   "cell_type": "code",
   "execution_count": 4,
   "id": "18520207",
   "metadata": {},
   "outputs": [
    {
     "data": {
      "text/plain": [
       "True"
      ]
     },
     "execution_count": 4,
     "metadata": {},
     "output_type": "execute_result"
    }
   ],
   "source": [
    "makes_twenty(20,34)"
   ]
  },
  {
   "cell_type": "code",
   "execution_count": 1,
   "id": "ebc119b5",
   "metadata": {},
   "outputs": [
    {
     "data": {
      "text/plain": [
       "18"
      ]
     },
     "execution_count": 1,
     "metadata": {},
     "output_type": "execute_result"
    }
   ],
   "source": [
    "9+9 "
   ]
  },
  {
   "cell_type": "code",
   "execution_count": 4,
   "id": "f4df1371",
   "metadata": {},
   "outputs": [],
   "source": [
    "def digital_root(n):\n",
    "    x = str(n)\n",
    "    while len(x) != 0 and len(x) != 1:\n",
    "        r = 0\n",
    "        for i in range(len(x)):\n",
    "            r = r + int(x[i])\n",
    "        x = str(r)\n",
    "        print(i)\n",
    "    return r"
   ]
  },
  {
   "cell_type": "code",
   "execution_count": 5,
   "id": "2d50a9a7",
   "metadata": {},
   "outputs": [
    {
     "name": "stdout",
     "output_type": "stream",
     "text": [
      "20\n",
      "2\n",
      "1\n"
     ]
    },
    {
     "data": {
      "text/plain": [
       "3"
      ]
     },
     "execution_count": 5,
     "metadata": {},
     "output_type": "execute_result"
    }
   ],
   "source": [
    "digital_root(777777777777777777777)"
   ]
  },
  {
   "cell_type": "code",
   "execution_count": 8,
   "id": "c87d0c85",
   "metadata": {},
   "outputs": [
    {
     "data": {
      "text/plain": [
       "147"
      ]
     },
     "execution_count": 8,
     "metadata": {},
     "output_type": "execute_result"
    }
   ],
   "source": [
    "7+7+7+7+7+7+7+7+7+7+7+7+7+7+7+7+7+7+7+7+7"
   ]
  },
  {
   "cell_type": "code",
   "execution_count": 7,
   "id": "099da768",
   "metadata": {},
   "outputs": [
    {
     "ename": "TypeError",
     "evalue": "object of type 'int' has no len()",
     "output_type": "error",
     "traceback": [
      "\u001b[1;31m---------------------------------------------------------------------------\u001b[0m",
      "\u001b[1;31mTypeError\u001b[0m                                 Traceback (most recent call last)",
      "\u001b[1;32m<ipython-input-7-2442de7674e0>\u001b[0m in \u001b[0;36m<module>\u001b[1;34m\u001b[0m\n\u001b[1;32m----> 1\u001b[1;33m \u001b[0mlen\u001b[0m\u001b[1;33m(\u001b[0m\u001b[1;36m777777777777777777777\u001b[0m\u001b[1;33m)\u001b[0m\u001b[1;33m\u001b[0m\u001b[1;33m\u001b[0m\u001b[0m\n\u001b[0m",
      "\u001b[1;31mTypeError\u001b[0m: object of type 'int' has no len()"
     ]
    }
   ],
   "source": [
    "len(777777777777777777777)"
   ]
  },
  {
   "cell_type": "code",
   "execution_count": 9,
   "id": "df49323e",
   "metadata": {},
   "outputs": [
    {
     "data": {
      "text/plain": [
       "21"
      ]
     },
     "execution_count": 9,
     "metadata": {},
     "output_type": "execute_result"
    }
   ],
   "source": [
    "14+7"
   ]
  },
  {
   "cell_type": "code",
   "execution_count": 10,
   "id": "d445562f",
   "metadata": {},
   "outputs": [
    {
     "data": {
      "text/plain": [
       "12"
      ]
     },
     "execution_count": 10,
     "metadata": {},
     "output_type": "execute_result"
    }
   ],
   "source": [
    "1+4+7"
   ]
  },
  {
   "cell_type": "code",
   "execution_count": 14,
   "id": "4bca5687",
   "metadata": {},
   "outputs": [
    {
     "ename": "NameError",
     "evalue": "name 'n' is not defined",
     "output_type": "error",
     "traceback": [
      "\u001b[1;31m---------------------------------------------------------------------------\u001b[0m",
      "\u001b[1;31mNameError\u001b[0m                                 Traceback (most recent call last)",
      "\u001b[1;32m<ipython-input-14-6072beb9104c>\u001b[0m in \u001b[0;36m<module>\u001b[1;34m\u001b[0m\n\u001b[0;32m     13\u001b[0m     \u001b[1;32mreturn\u001b[0m \u001b[0msum\u001b[0m\u001b[1;33m\u001b[0m\u001b[1;33m\u001b[0m\u001b[0m\n\u001b[0;32m     14\u001b[0m \u001b[0mdigsum\u001b[0m\u001b[1;33m(\u001b[0m\u001b[1;36m777777777777777777777\u001b[0m\u001b[1;33m)\u001b[0m\u001b[1;33m\u001b[0m\u001b[1;33m\u001b[0m\u001b[0m\n\u001b[1;32m---> 15\u001b[1;33m \u001b[0mprint\u001b[0m\u001b[1;33m(\u001b[0m\u001b[0mdigsum\u001b[0m\u001b[1;33m(\u001b[0m\u001b[0mn\u001b[0m\u001b[1;33m)\u001b[0m\u001b[1;33m)\u001b[0m\u001b[1;33m\u001b[0m\u001b[1;33m\u001b[0m\u001b[0m\n\u001b[0m",
      "\u001b[1;31mNameError\u001b[0m: name 'n' is not defined"
     ]
    }
   ],
   "source": [
    "def digsum(n):\n",
    "    sum = 0\n",
    "    \n",
    "    while(n > 0 or sum > 9):\n",
    "        \n",
    "        if(n == 0):\n",
    "            n = sum\n",
    "            sum = 0\n",
    "            \n",
    "        sum += n % 10\n",
    "        n /= 10\n",
    "        \n",
    "    return sum\n",
    "digsum(777777777777777777777)\n",
    "print(digsum(n))"
   ]
  },
  {
   "cell_type": "code",
   "execution_count": 18,
   "id": "0c070253",
   "metadata": {},
   "outputs": [
    {
     "data": {
      "text/plain": [
       "0"
      ]
     },
     "execution_count": 18,
     "metadata": {},
     "output_type": "execute_result"
    }
   ],
   "source": [
    "50 % 10"
   ]
  },
  {
   "cell_type": "code",
   "execution_count": null,
   "id": "8c00da4a",
   "metadata": {},
   "outputs": [],
   "source": []
  }
 ],
 "metadata": {
  "kernelspec": {
   "display_name": "Python 3",
   "language": "python",
   "name": "python3"
  },
  "language_info": {
   "codemirror_mode": {
    "name": "ipython",
    "version": 3
   },
   "file_extension": ".py",
   "mimetype": "text/x-python",
   "name": "python",
   "nbconvert_exporter": "python",
   "pygments_lexer": "ipython3",
   "version": "3.8.8"
  }
 },
 "nbformat": 4,
 "nbformat_minor": 5
}
